{
 "cells": [
  {
   "cell_type": "code",
   "execution_count": null,
   "id": "0161b879",
   "metadata": {},
   "outputs": [],
   "source": [
    "'''\n",
    "Python conexion to Postgres DB\n",
    "By: Ing. Duván Albeiro Mejia Cortes\n",
    "Date: 23-12-2022  \n",
    "'''"
   ]
  },
  {
   "cell_type": "code",
   "execution_count": 5,
   "id": "e599db58",
   "metadata": {},
   "outputs": [],
   "source": [
    "import psycopg2 as pg2"
   ]
  },
  {
   "cell_type": "code",
   "execution_count": 7,
   "id": "23d07c0b",
   "metadata": {},
   "outputs": [],
   "source": [
    "conexion = pg2.connect(database='curso2', user='postgres', password='admin123')"
   ]
  },
  {
   "cell_type": "code",
   "execution_count": 8,
   "id": "3fe3465d",
   "metadata": {},
   "outputs": [],
   "source": [
    "cursor = conexion.cursor()"
   ]
  },
  {
   "cell_type": "code",
   "execution_count": 13,
   "id": "6ba905e5",
   "metadata": {},
   "outputs": [],
   "source": [
    "cursor.execute('Select * from usuarios')"
   ]
  },
  {
   "cell_type": "code",
   "execution_count": 11,
   "id": "002cd713",
   "metadata": {},
   "outputs": [],
   "source": [
    "fila1 = cursor.fetchone()"
   ]
  },
  {
   "cell_type": "code",
   "execution_count": 12,
   "id": "3ca6e1bc",
   "metadata": {},
   "outputs": [
    {
     "data": {
      "text/plain": [
       "(1,\n",
       " 'Colleen',\n",
       " 'Rose',\n",
       " 'Batman123',\n",
       " 'santo@gmail.com',\n",
       " datetime.datetime(2022, 12, 23, 12, 0, 15, 807389))"
      ]
     },
     "execution_count": 12,
     "metadata": {},
     "output_type": "execute_result"
    }
   ],
   "source": [
    "fila1"
   ]
  },
  {
   "cell_type": "code",
   "execution_count": 14,
   "id": "ae6e7fb5",
   "metadata": {},
   "outputs": [],
   "source": [
    "cursor.execute('Select * from usuarios')"
   ]
  },
  {
   "cell_type": "code",
   "execution_count": 15,
   "id": "edaa4a79",
   "metadata": {},
   "outputs": [],
   "source": [
    "datos = cursor.fetchall()"
   ]
  },
  {
   "cell_type": "code",
   "execution_count": 16,
   "id": "8667a716",
   "metadata": {},
   "outputs": [
    {
     "data": {
      "text/plain": [
       "[(1,\n",
       "  'Colleen',\n",
       "  'Rose',\n",
       "  'Batman123',\n",
       "  'santo@gmail.com',\n",
       "  datetime.datetime(2022, 12, 23, 12, 0, 15, 807389)),\n",
       " (2,\n",
       "  'Duvan',\n",
       "  'Mejia',\n",
       "  'Admin123',\n",
       "  'duvanmejia@gmail.com',\n",
       "  datetime.datetime(2022, 12, 23, 12, 1, 36, 43762))]"
      ]
     },
     "execution_count": 16,
     "metadata": {},
     "output_type": "execute_result"
    }
   ],
   "source": [
    "datos"
   ]
  },
  {
   "cell_type": "code",
   "execution_count": 17,
   "id": "e90510a2",
   "metadata": {},
   "outputs": [
    {
     "data": {
      "text/plain": [
       "(2,\n",
       " 'Duvan',\n",
       " 'Mejia',\n",
       " 'Admin123',\n",
       " 'duvanmejia@gmail.com',\n",
       " datetime.datetime(2022, 12, 23, 12, 1, 36, 43762))"
      ]
     },
     "execution_count": 17,
     "metadata": {},
     "output_type": "execute_result"
    }
   ],
   "source": [
    "datos[1]"
   ]
  },
  {
   "cell_type": "code",
   "execution_count": 23,
   "id": "83379f4f",
   "metadata": {},
   "outputs": [
    {
     "name": "stdout",
     "output_type": "stream",
     "text": [
      "(1, 'Colleen', 'Rose', 'Batman123', 'santo@gmail.com', datetime.datetime(2022, 12, 23, 12, 0, 15, 807389))\n",
      "(2, 'Duvan', 'Mejia', 'Admin123', 'duvanmejia@gmail.com', datetime.datetime(2022, 12, 23, 12, 1, 36, 43762))\n"
     ]
    }
   ],
   "source": [
    "for siri in datos:\n",
    "    print(siri)"
   ]
  },
  {
   "cell_type": "code",
   "execution_count": 24,
   "id": "98216520",
   "metadata": {},
   "outputs": [],
   "source": [
    "conexion.close()"
   ]
  },
  {
   "cell_type": "code",
   "execution_count": null,
   "id": "28285360",
   "metadata": {},
   "outputs": [],
   "source": []
  }
 ],
 "metadata": {
  "kernelspec": {
   "display_name": "Python 3 (ipykernel)",
   "language": "python",
   "name": "python3"
  },
  "language_info": {
   "codemirror_mode": {
    "name": "ipython",
    "version": 3
   },
   "file_extension": ".py",
   "mimetype": "text/x-python",
   "name": "python",
   "nbconvert_exporter": "python",
   "pygments_lexer": "ipython3",
   "version": "3.9.13"
  }
 },
 "nbformat": 4,
 "nbformat_minor": 5
}
